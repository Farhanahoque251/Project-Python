{
 "cells": [
  {
   "cell_type": "code",
   "execution_count": 17,
   "id": "7d7f938e",
   "metadata": {},
   "outputs": [],
   "source": [
    "import pandas as pd\n",
    "import numpy as np\n",
    "import matplotlib.pyplot as plt\n",
    "from scipy.stats import f_oneway, chi2_contingency\n",
    "import seaborn as sns"
   ]
  },
  {
   "cell_type": "code",
   "execution_count": 4,
   "id": "10003f0b",
   "metadata": {},
   "outputs": [
    {
     "data": {
      "text/html": [
       "<div>\n",
       "<style scoped>\n",
       "    .dataframe tbody tr th:only-of-type {\n",
       "        vertical-align: middle;\n",
       "    }\n",
       "\n",
       "    .dataframe tbody tr th {\n",
       "        vertical-align: top;\n",
       "    }\n",
       "\n",
       "    .dataframe thead th {\n",
       "        text-align: right;\n",
       "    }\n",
       "</style>\n",
       "<table border=\"1\" class=\"dataframe\">\n",
       "  <thead>\n",
       "    <tr style=\"text-align: right;\">\n",
       "      <th></th>\n",
       "      <th>total_bill</th>\n",
       "      <th>tip</th>\n",
       "      <th>sex</th>\n",
       "      <th>smoker</th>\n",
       "      <th>day</th>\n",
       "      <th>time</th>\n",
       "      <th>size</th>\n",
       "    </tr>\n",
       "  </thead>\n",
       "  <tbody>\n",
       "    <tr>\n",
       "      <th>0</th>\n",
       "      <td>16.99</td>\n",
       "      <td>1.01</td>\n",
       "      <td>Female</td>\n",
       "      <td>No</td>\n",
       "      <td>Sun</td>\n",
       "      <td>Dinner</td>\n",
       "      <td>2</td>\n",
       "    </tr>\n",
       "    <tr>\n",
       "      <th>1</th>\n",
       "      <td>10.34</td>\n",
       "      <td>1.66</td>\n",
       "      <td>Male</td>\n",
       "      <td>No</td>\n",
       "      <td>Sun</td>\n",
       "      <td>Dinner</td>\n",
       "      <td>3</td>\n",
       "    </tr>\n",
       "    <tr>\n",
       "      <th>2</th>\n",
       "      <td>21.01</td>\n",
       "      <td>3.50</td>\n",
       "      <td>Male</td>\n",
       "      <td>No</td>\n",
       "      <td>Sun</td>\n",
       "      <td>Dinner</td>\n",
       "      <td>3</td>\n",
       "    </tr>\n",
       "    <tr>\n",
       "      <th>3</th>\n",
       "      <td>23.68</td>\n",
       "      <td>3.31</td>\n",
       "      <td>Male</td>\n",
       "      <td>No</td>\n",
       "      <td>Sun</td>\n",
       "      <td>Dinner</td>\n",
       "      <td>2</td>\n",
       "    </tr>\n",
       "    <tr>\n",
       "      <th>4</th>\n",
       "      <td>24.59</td>\n",
       "      <td>3.61</td>\n",
       "      <td>Female</td>\n",
       "      <td>No</td>\n",
       "      <td>Sun</td>\n",
       "      <td>Dinner</td>\n",
       "      <td>4</td>\n",
       "    </tr>\n",
       "  </tbody>\n",
       "</table>\n",
       "</div>"
      ],
      "text/plain": [
       "   total_bill   tip     sex smoker  day    time  size\n",
       "0       16.99  1.01  Female     No  Sun  Dinner     2\n",
       "1       10.34  1.66    Male     No  Sun  Dinner     3\n",
       "2       21.01  3.50    Male     No  Sun  Dinner     3\n",
       "3       23.68  3.31    Male     No  Sun  Dinner     2\n",
       "4       24.59  3.61  Female     No  Sun  Dinner     4"
      ]
     },
     "execution_count": 4,
     "metadata": {},
     "output_type": "execute_result"
    }
   ],
   "source": [
    "# Corrected file path using a raw string\n",
    "file_path = r\"C:\\KSI-Python Projects\\practice01.csv\"\n",
    "\n",
    "data = pd.read_csv(file_path)\n",
    "# Read the CSV file\n",
    "df = pd.read_csv(file_path)\n",
    "\n",
    "# Display the first few rows of the dataset\n",
    "df.head()\n"
   ]
  },
  {
   "cell_type": "code",
   "execution_count": 5,
   "id": "ed026ba2",
   "metadata": {},
   "outputs": [
    {
     "data": {
      "text/html": [
       "<div>\n",
       "<style scoped>\n",
       "    .dataframe tbody tr th:only-of-type {\n",
       "        vertical-align: middle;\n",
       "    }\n",
       "\n",
       "    .dataframe tbody tr th {\n",
       "        vertical-align: top;\n",
       "    }\n",
       "\n",
       "    .dataframe thead th {\n",
       "        text-align: right;\n",
       "    }\n",
       "</style>\n",
       "<table border=\"1\" class=\"dataframe\">\n",
       "  <thead>\n",
       "    <tr style=\"text-align: right;\">\n",
       "      <th></th>\n",
       "      <th>total_bill</th>\n",
       "      <th>tip</th>\n",
       "      <th>sex</th>\n",
       "      <th>smoker</th>\n",
       "      <th>day</th>\n",
       "      <th>time</th>\n",
       "      <th>size</th>\n",
       "    </tr>\n",
       "  </thead>\n",
       "  <tbody>\n",
       "    <tr>\n",
       "      <th>239</th>\n",
       "      <td>29.03</td>\n",
       "      <td>5.92</td>\n",
       "      <td>Male</td>\n",
       "      <td>No</td>\n",
       "      <td>Sat</td>\n",
       "      <td>Dinner</td>\n",
       "      <td>3</td>\n",
       "    </tr>\n",
       "    <tr>\n",
       "      <th>240</th>\n",
       "      <td>27.18</td>\n",
       "      <td>2.00</td>\n",
       "      <td>Female</td>\n",
       "      <td>Yes</td>\n",
       "      <td>Sat</td>\n",
       "      <td>Dinner</td>\n",
       "      <td>2</td>\n",
       "    </tr>\n",
       "    <tr>\n",
       "      <th>241</th>\n",
       "      <td>22.67</td>\n",
       "      <td>2.00</td>\n",
       "      <td>Male</td>\n",
       "      <td>Yes</td>\n",
       "      <td>Sat</td>\n",
       "      <td>Dinner</td>\n",
       "      <td>2</td>\n",
       "    </tr>\n",
       "    <tr>\n",
       "      <th>242</th>\n",
       "      <td>17.82</td>\n",
       "      <td>1.75</td>\n",
       "      <td>Male</td>\n",
       "      <td>No</td>\n",
       "      <td>Sat</td>\n",
       "      <td>Dinner</td>\n",
       "      <td>2</td>\n",
       "    </tr>\n",
       "    <tr>\n",
       "      <th>243</th>\n",
       "      <td>18.78</td>\n",
       "      <td>3.00</td>\n",
       "      <td>Female</td>\n",
       "      <td>No</td>\n",
       "      <td>Thur</td>\n",
       "      <td>Dinner</td>\n",
       "      <td>2</td>\n",
       "    </tr>\n",
       "  </tbody>\n",
       "</table>\n",
       "</div>"
      ],
      "text/plain": [
       "     total_bill   tip     sex smoker   day    time  size\n",
       "239       29.03  5.92    Male     No   Sat  Dinner     3\n",
       "240       27.18  2.00  Female    Yes   Sat  Dinner     2\n",
       "241       22.67  2.00    Male    Yes   Sat  Dinner     2\n",
       "242       17.82  1.75    Male     No   Sat  Dinner     2\n",
       "243       18.78  3.00  Female     No  Thur  Dinner     2"
      ]
     },
     "execution_count": 5,
     "metadata": {},
     "output_type": "execute_result"
    }
   ],
   "source": [
    "df.tail()"
   ]
  },
  {
   "cell_type": "code",
   "execution_count": 6,
   "id": "f212755c",
   "metadata": {},
   "outputs": [
    {
     "name": "stdout",
     "output_type": "stream",
     "text": [
      "<class 'pandas.core.frame.DataFrame'>\n",
      "RangeIndex: 244 entries, 0 to 243\n",
      "Data columns (total 7 columns):\n",
      " #   Column      Non-Null Count  Dtype  \n",
      "---  ------      --------------  -----  \n",
      " 0   total_bill  244 non-null    float64\n",
      " 1   tip         244 non-null    float64\n",
      " 2   sex         244 non-null    object \n",
      " 3   smoker      244 non-null    object \n",
      " 4   day         244 non-null    object \n",
      " 5   time        244 non-null    object \n",
      " 6   size        244 non-null    int64  \n",
      "dtypes: float64(2), int64(1), object(4)\n",
      "memory usage: 13.5+ KB\n"
     ]
    }
   ],
   "source": [
    "df.info()"
   ]
  },
  {
   "cell_type": "code",
   "execution_count": 8,
   "id": "5837852f",
   "metadata": {},
   "outputs": [
    {
     "data": {
      "text/plain": [
       "2.99827868852459"
      ]
     },
     "execution_count": 8,
     "metadata": {},
     "output_type": "execute_result"
    }
   ],
   "source": [
    "# 1) Overall average tip\n",
    "average_tip = df['tip'].mean()\n",
    "average_tip"
   ]
  },
  {
   "cell_type": "code",
   "execution_count": 9,
   "id": "2894e1b1",
   "metadata": {},
   "outputs": [
    {
     "data": {
      "text/html": [
       "<div>\n",
       "<style scoped>\n",
       "    .dataframe tbody tr th:only-of-type {\n",
       "        vertical-align: middle;\n",
       "    }\n",
       "\n",
       "    .dataframe tbody tr th {\n",
       "        vertical-align: top;\n",
       "    }\n",
       "\n",
       "    .dataframe thead th {\n",
       "        text-align: right;\n",
       "    }\n",
       "</style>\n",
       "<table border=\"1\" class=\"dataframe\">\n",
       "  <thead>\n",
       "    <tr style=\"text-align: right;\">\n",
       "      <th></th>\n",
       "      <th>total_bill</th>\n",
       "      <th>tip</th>\n",
       "      <th>size</th>\n",
       "    </tr>\n",
       "  </thead>\n",
       "  <tbody>\n",
       "    <tr>\n",
       "      <th>count</th>\n",
       "      <td>244.000000</td>\n",
       "      <td>244.000000</td>\n",
       "      <td>244.000000</td>\n",
       "    </tr>\n",
       "    <tr>\n",
       "      <th>mean</th>\n",
       "      <td>19.785943</td>\n",
       "      <td>2.998279</td>\n",
       "      <td>2.569672</td>\n",
       "    </tr>\n",
       "    <tr>\n",
       "      <th>std</th>\n",
       "      <td>8.902412</td>\n",
       "      <td>1.383638</td>\n",
       "      <td>0.951100</td>\n",
       "    </tr>\n",
       "    <tr>\n",
       "      <th>min</th>\n",
       "      <td>3.070000</td>\n",
       "      <td>1.000000</td>\n",
       "      <td>1.000000</td>\n",
       "    </tr>\n",
       "    <tr>\n",
       "      <th>25%</th>\n",
       "      <td>13.347500</td>\n",
       "      <td>2.000000</td>\n",
       "      <td>2.000000</td>\n",
       "    </tr>\n",
       "    <tr>\n",
       "      <th>50%</th>\n",
       "      <td>17.795000</td>\n",
       "      <td>2.900000</td>\n",
       "      <td>2.000000</td>\n",
       "    </tr>\n",
       "    <tr>\n",
       "      <th>75%</th>\n",
       "      <td>24.127500</td>\n",
       "      <td>3.562500</td>\n",
       "      <td>3.000000</td>\n",
       "    </tr>\n",
       "    <tr>\n",
       "      <th>max</th>\n",
       "      <td>50.810000</td>\n",
       "      <td>10.000000</td>\n",
       "      <td>6.000000</td>\n",
       "    </tr>\n",
       "  </tbody>\n",
       "</table>\n",
       "</div>"
      ],
      "text/plain": [
       "       total_bill         tip        size\n",
       "count  244.000000  244.000000  244.000000\n",
       "mean    19.785943    2.998279    2.569672\n",
       "std      8.902412    1.383638    0.951100\n",
       "min      3.070000    1.000000    1.000000\n",
       "25%     13.347500    2.000000    2.000000\n",
       "50%     17.795000    2.900000    2.000000\n",
       "75%     24.127500    3.562500    3.000000\n",
       "max     50.810000   10.000000    6.000000"
      ]
     },
     "execution_count": 9,
     "metadata": {},
     "output_type": "execute_result"
    }
   ],
   "source": [
    "# 2) Statistical summary for numerical variables\n",
    "stat_summary = df.describe()\n",
    "stat_summary"
   ]
  },
  {
   "cell_type": "code",
   "execution_count": 13,
   "id": "69a79e96",
   "metadata": {},
   "outputs": [
    {
     "name": "stdout",
     "output_type": "stream",
     "text": [
      "            Null Values  Null Percentage\n",
      "total_bill            0              0.0\n",
      "tip                   0              0.0\n",
      "sex                   0              0.0\n",
      "smoker                0              0.0\n",
      "day                   0              0.0\n",
      "time                  0              0.0\n",
      "size                  0              0.0\n"
     ]
    }
   ],
   "source": [
    "# 2.1) Null values and percentage\n",
    "null_values = df.isnull().sum()\n",
    "percentage_null = (null_values / len(df)) * 100\n",
    "\n",
    "print(pd.concat([null_values, percentage_null], axis=1, keys=['Null Values', 'Null Percentage']))"
   ]
  },
  {
   "cell_type": "code",
   "execution_count": 15,
   "id": "3ba6dbae",
   "metadata": {},
   "outputs": [
    {
     "name": "stdout",
     "output_type": "stream",
     "text": [
      "Numerical columns: ['total_bill', 'tip', 'size']\n",
      "Categorical columns: ['sex', 'smoker', 'day', 'time']\n"
     ]
    }
   ],
   "source": [
    "# 2.2) Numerical and Categorical variables\n",
    "numerical_columns = df.select_dtypes(include='number').columns.tolist()\n",
    "categorical_columns = df.select_dtypes(include='object').columns.tolist()\n",
    "print(\"Numerical columns:\", numerical_columns)\n",
    "print(\"Categorical columns:\", categorical_columns)"
   ]
  },
  {
   "cell_type": "code",
   "execution_count": 18,
   "id": "7f722ddf",
   "metadata": {},
   "outputs": [
    {
     "name": "stdout",
     "output_type": "stream",
     "text": [
      "\n",
      "2.3) ANOVA results for 'tip' and 'sex':\n",
      "ANOVA results: F-statistic = 1.9261545619320046, p-value = 0.166456235034572\n",
      "The difference in tips between genders is not statistically significant.\n"
     ]
    }
   ],
   "source": [
    "\n",
    "#from scipy.stats import f_oneway\n",
    "\n",
    "female_tips = df[df['sex'] == 'Female']['tip']\n",
    "male_tips = df[df['sex'] == 'Male']['tip']\n",
    "# 2.3) Relationship between Numerical and Categorical variables (ANOVA for 'tip' and 'sex')\n",
    "\n",
    "f_statistic, p_value = f_oneway(female_tips, male_tips)\n",
    "\n",
    "print(\"\\n2.3) ANOVA results for 'tip' and 'sex':\")\n",
    "print(f\"ANOVA results: F-statistic = {f_statistic}, p-value = {p_value}\")\n",
    "\n",
    "if p_value < 0.05:\n",
    "    print(\"The difference in tips between genders is statistically significant.\")\n",
    "else:\n",
    "    print(\"The difference in tips between genders is not statistically significant.\")"
   ]
  },
  {
   "cell_type": "code",
   "execution_count": 19,
   "id": "1be31e4b",
   "metadata": {},
   "outputs": [
    {
     "data": {
      "text/plain": [
       "count    244.000000\n",
       "mean       2.998279\n",
       "std        1.383638\n",
       "min        1.000000\n",
       "25%        2.000000\n",
       "50%        2.900000\n",
       "75%        3.562500\n",
       "max       10.000000\n",
       "Name: tip, dtype: float64"
      ]
     },
     "execution_count": 19,
     "metadata": {},
     "output_type": "execute_result"
    }
   ],
   "source": [
    "# 3) Statistical summary for 'tip'\n",
    "tip_summary = df['tip'].describe()\n",
    "tip_summary"
   ]
  },
  {
   "cell_type": "code",
   "execution_count": 20,
   "id": "deb93dc0",
   "metadata": {},
   "outputs": [
    {
     "data": {
      "text/plain": [
       "0.09827868852458987"
      ]
     },
     "execution_count": 20,
     "metadata": {},
     "output_type": "execute_result"
    }
   ],
   "source": [
    "# 4) Difference between mean and median for \"tip\"\n",
    "mean_tip = df['tip'].mean()\n",
    "median_tip = df['tip'].median()\n",
    "difference_mean_median = mean_tip - median_tip\n",
    "difference_mean_median"
   ]
  },
  {
   "cell_type": "code",
   "execution_count": 22,
   "id": "d761eaba",
   "metadata": {},
   "outputs": [
    {
     "data": {
      "image/png": "[encoded data removed]",
      "text/plain": [
       "<Figure size 640x480 with 1 Axes>"
      ]
     },
     "metadata": {},
     "output_type": "display_data"
    }
   ],
   "source": [
    "# 5) Box plot for 'tip'to identify outliers\n",
    "sns.boxplot(x=df['tip'])\n",
    "plt.title('5) Box plot for tip')\n",
    "plt.show()"
   ]
  },
  {
   "cell_type": "code",
   "execution_count": 23,
   "id": "69204691",
   "metadata": {},
   "outputs": [
    {
     "data": {
      "image/png": "[encoded data removed]",
      "text/plain": [
       "<Figure size 640x480 with 1 Axes>"
      ]
     },
     "metadata": {},
     "output_type": "display_data"
    }
   ],
   "source": [
    "# 6) Box plot for 'total_bill'\n",
    "sns.boxplot(x=df['total_bill'])\n",
    "plt.title('6) Box plot for total_bill')\n",
    "plt.show()\n"
   ]
  },
  {
   "cell_type": "code",
   "execution_count": 24,
   "id": "30dd9a3d",
   "metadata": {},
   "outputs": [
    {
     "data": {
      "text/plain": [
       "Male      64.344262\n",
       "Female    35.655738\n",
       "Name: sex, dtype: float64"
      ]
     },
     "execution_count": 24,
     "metadata": {},
     "output_type": "execute_result"
    }
   ],
   "source": [
    "# 7) Percentage of males & females\n",
    "gender_percentage = df['sex'].value_counts(normalize=True) * 100\n",
    "gender_percentage"
   ]
  },
  {
   "cell_type": "code",
   "execution_count": 27,
   "id": "74cf1cef",
   "metadata": {},
   "outputs": [
    {
     "data": {
      "image/png": "[encoded data removed]",
      "text/plain": [
       "<Figure size 640x480 with 1 Axes>"
      ]
     },
     "metadata": {},
     "output_type": "display_data"
    }
   ],
   "source": [
    "# 8) Bar plot for gender percentage\n",
    "sns.barplot(x=gender_percentage.index, y=gender_percentage.values)\n",
    "plt.ylabel('Percentage')\n",
    "plt.title('8) Percentage of Records for Each Gender')\n",
    "plt.show()\n"
   ]
  },
  {
   "cell_type": "code",
   "execution_count": 29,
   "id": "14b264ab",
   "metadata": {},
   "outputs": [
    {
     "name": "stdout",
     "output_type": "stream",
     "text": [
      "\n",
      "9) Average tip by gender:\n",
      "sex\n",
      "Female    2.833448\n",
      "Male      3.089618\n",
      "Name: tip, dtype: float64\n"
     ]
    }
   ],
   "source": [
    "# 9) Average difference by gender\n",
    "average_by_gender = data.groupby('sex')['tip'].mean()\n",
    "print(\"\\n9) Average tip by gender:\")\n",
    "print(average_by_gender)\n"
   ]
  },
  {
   "cell_type": "code",
   "execution_count": 30,
   "id": "1b8df7b1",
   "metadata": {},
   "outputs": [
    {
     "name": "stdout",
     "output_type": "stream",
     "text": [
      "\n",
      "10) Average tip by day:\n",
      "day\n",
      "Fri     2.734737\n",
      "Sat     2.993103\n",
      "Sun     3.255132\n",
      "Thur    2.771452\n",
      "Name: tip, dtype: float64\n"
     ]
    }
   ],
   "source": [
    "# 10) Find average tip according to day (i.e. weekday) write your observation on that\n",
    "average_by_day = data.groupby('day')['tip'].mean()\n",
    "print(\"\\n10) Average tip by day:\")\n",
    "print(average_by_day)"
   ]
  },
  {
   "cell_type": "code",
   "execution_count": 33,
   "id": "2d26e948",
   "metadata": {},
   "outputs": [
    {
     "name": "stdout",
     "output_type": "stream",
     "text": [
      "\n",
      "11) Average tip by table size:\n",
      "size\n",
      "1    1.437500\n",
      "2    2.582308\n",
      "3    3.393158\n",
      "4    4.135405\n",
      "5    4.028000\n",
      "6    5.225000\n",
      "Name: tip, dtype: float64\n"
     ]
    }
   ],
   "source": [
    "# 11) Find the average tip according to size (number of people at the table)\n",
    "average_by_size = data.groupby('size')['tip'].mean()\n",
    "print(\"\\n11) Average tip by table size:\")\n",
    "print(average_by_size)"
   ]
  },
  {
   "cell_type": "code",
   "execution_count": 34,
   "id": "fb83bb29",
   "metadata": {},
   "outputs": [
    {
     "name": "stdout",
     "output_type": "stream",
     "text": [
      "\n",
      "12) Average tip for smokers and non-smokers:\n",
      "Average tip for smokers: 3.01\n",
      "Average tip for non-smokers: 2.99\n",
      "Smokers tend to tip more than non-smokers.\n"
     ]
    }
   ],
   "source": [
    "# 12) Is smokers' tip more than non-smokers?\n",
    "smoker_tips = df[df['smoker'] == 'Yes']['tip']\n",
    "non_smoker_tips = df[df['smoker'] == 'No']['tip']\n",
    "mean_tip_smokers = smoker_tips.mean()\n",
    "mean_tip_non_smokers = non_smoker_tips.mean()\n",
    "print(\"\\n12) Average tip for smokers and non-smokers:\")\n",
    "print(f\"Average tip for smokers: {mean_tip_smokers:.2f}\")\n",
    "print(f\"Average tip for non-smokers: {mean_tip_non_smokers:.2f}\")\n",
    "if mean_tip_smokers > mean_tip_non_smokers:\n",
    "    print(\"Smokers tend to tip more than non-smokers.\")\n",
    "else:\n",
    "    print(\"Non-smokers tend to tip more than smokers.\")"
   ]
  },
  {
   "cell_type": "code",
   "execution_count": 35,
   "id": "b8abd0fa",
   "metadata": {},
   "outputs": [
    {
     "name": "stdout",
     "output_type": "stream",
     "text": [
      "\n",
      "13) Average tip by gender and smoker status:\n",
      "smoker        No       Yes\n",
      "sex                       \n",
      "Female  2.773519  2.931515\n",
      "Male    3.113402  3.051167\n",
      "Male smokers tend to tip more than female smokers.\n"
     ]
    }
   ],
   "source": [
    "# 13) Create a 2 by 2 and get the average tip size (Gender vs smoker and tip size).\n",
    "# Which group tips the most?\n",
    "# Hints (index will be sex, columns will be smoker, values will be tips)\n",
    "grouped = df.groupby(['sex', 'smoker'])['tip'].mean().unstack()\n",
    "print(\"\\n13) Average tip by gender and smoker status:\")\n",
    "print(grouped)\n",
    "if grouped.loc['Female', 'Yes'] > grouped.loc['Male', 'Yes']:\n",
    "    print(\"Female smokers tend to tip more than male smokers.\")\n",
    "else:\n",
    "    print(\"Male smokers tend to tip more than female smokers.\")"
   ]
  },
  {
   "cell_type": "code",
   "execution_count": 38,
   "id": "44482dfc",
   "metadata": {},
   "outputs": [
    {
     "data": {
      "text/html": [
       "<div>\n",
       "<style scoped>\n",
       "    .dataframe tbody tr th:only-of-type {\n",
       "        vertical-align: middle;\n",
       "    }\n",
       "\n",
       "    .dataframe tbody tr th {\n",
       "        vertical-align: top;\n",
       "    }\n",
       "\n",
       "    .dataframe thead th {\n",
       "        text-align: right;\n",
       "    }\n",
       "</style>\n",
       "<table border=\"1\" class=\"dataframe\">\n",
       "  <thead>\n",
       "    <tr style=\"text-align: right;\">\n",
       "      <th></th>\n",
       "      <th>total_bill</th>\n",
       "      <th>tip</th>\n",
       "      <th>sex</th>\n",
       "      <th>smoker</th>\n",
       "      <th>day</th>\n",
       "      <th>time</th>\n",
       "      <th>size</th>\n",
       "      <th>pct_tip</th>\n",
       "    </tr>\n",
       "  </thead>\n",
       "  <tbody>\n",
       "    <tr>\n",
       "      <th>0</th>\n",
       "      <td>16.99</td>\n",
       "      <td>1.01</td>\n",
       "      <td>Female</td>\n",
       "      <td>No</td>\n",
       "      <td>Sun</td>\n",
       "      <td>Dinner</td>\n",
       "      <td>2</td>\n",
       "      <td>5.944673</td>\n",
       "    </tr>\n",
       "    <tr>\n",
       "      <th>1</th>\n",
       "      <td>10.34</td>\n",
       "      <td>1.66</td>\n",
       "      <td>Male</td>\n",
       "      <td>No</td>\n",
       "      <td>Sun</td>\n",
       "      <td>Dinner</td>\n",
       "      <td>3</td>\n",
       "      <td>16.054159</td>\n",
       "    </tr>\n",
       "    <tr>\n",
       "      <th>2</th>\n",
       "      <td>21.01</td>\n",
       "      <td>3.50</td>\n",
       "      <td>Male</td>\n",
       "      <td>No</td>\n",
       "      <td>Sun</td>\n",
       "      <td>Dinner</td>\n",
       "      <td>3</td>\n",
       "      <td>16.658734</td>\n",
       "    </tr>\n",
       "    <tr>\n",
       "      <th>3</th>\n",
       "      <td>23.68</td>\n",
       "      <td>3.31</td>\n",
       "      <td>Male</td>\n",
       "      <td>No</td>\n",
       "      <td>Sun</td>\n",
       "      <td>Dinner</td>\n",
       "      <td>2</td>\n",
       "      <td>13.978041</td>\n",
       "    </tr>\n",
       "    <tr>\n",
       "      <th>4</th>\n",
       "      <td>24.59</td>\n",
       "      <td>3.61</td>\n",
       "      <td>Female</td>\n",
       "      <td>No</td>\n",
       "      <td>Sun</td>\n",
       "      <td>Dinner</td>\n",
       "      <td>4</td>\n",
       "      <td>14.680765</td>\n",
       "    </tr>\n",
       "  </tbody>\n",
       "</table>\n",
       "</div>"
      ],
      "text/plain": [
       "   total_bill   tip     sex smoker  day    time  size    pct_tip\n",
       "0       16.99  1.01  Female     No  Sun  Dinner     2   5.944673\n",
       "1       10.34  1.66    Male     No  Sun  Dinner     3  16.054159\n",
       "2       21.01  3.50    Male     No  Sun  Dinner     3  16.658734\n",
       "3       23.68  3.31    Male     No  Sun  Dinner     2  13.978041\n",
       "4       24.59  3.61  Female     No  Sun  Dinner     4  14.680765"
      ]
     },
     "execution_count": 38,
     "metadata": {},
     "output_type": "execute_result"
    }
   ],
   "source": [
    "# 14) Create a column called 'pct_tip' = tip / total_bill - this would be giving \n",
    "# percentage of tip and should be a better measure of the tipping behavior.\n",
    "df['pct_tip'] = df['tip'] / df['total_bill'] * 100\n",
    "df.head()"
   ]
  },
  {
   "cell_type": "code",
   "execution_count": 39,
   "id": "cc58cf64",
   "metadata": {},
   "outputs": [
    {
     "name": "stdout",
     "output_type": "stream",
     "text": [
      "\n",
      "15) Relationships between 'pct_tip' and 'sex', 'size':\n",
      "Relationship with sex:\n",
      "sex\n",
      "Female    16.649074\n",
      "Male      15.765055\n",
      "Name: pct_tip, dtype: float64\n",
      "Relationship with table size:\n",
      "size\n",
      "1    21.729202\n",
      "2    16.571919\n",
      "3    15.215685\n",
      "4    14.594901\n",
      "5    14.149549\n",
      "6    15.622920\n",
      "Name: pct_tip, dtype: float64\n"
     ]
    }
   ],
   "source": [
    "# 15) Find the relationships with 'pct_tip\" to \"sex\", \"size\" write your observations\n",
    "relationship_sex_pct_tip = df.groupby('sex')['pct_tip'].mean()\n",
    "relationship_size_pct_tip = df.groupby('size')['pct_tip'].mean()\n",
    "print(\"\\n15) Relationships between 'pct_tip' and 'sex', 'size':\")\n",
    "print(\"Relationship with sex:\")\n",
    "print(relationship_sex_pct_tip)\n",
    "print(\"Relationship with table size:\")\n",
    "print(relationship_size_pct_tip)"
   ]
  },
  {
   "cell_type": "code",
   "execution_count": 40,
   "id": "703a0303",
   "metadata": {},
   "outputs": [
    {
     "name": "stdout",
     "output_type": "stream",
     "text": [
      "\n",
      "16) Average pct_tip by gender and smoker status:\n",
      "smoker         No        Yes\n",
      "sex                         \n",
      "Female  15.692097  18.215035\n",
      "Male    16.066872  15.277118\n"
     ]
    }
   ],
   "source": [
    "# 16) Make the gender vs. smoker view using pct_tip (like task 13)\n",
    "grouped_pct_tip = df.groupby(['sex', 'smoker'])['pct_tip'].mean().unstack()\n",
    "print(\"\\n16) Average pct_tip by gender and smoker status:\")\n",
    "print(grouped_pct_tip)"
   ]
  },
  {
   "cell_type": "code",
   "execution_count": 45,
   "id": "00af35a8",
   "metadata": {},
   "outputs": [
    {
     "data": {
      "image/png": "[encoded data removed]",
      "text/plain": [
       "<Figure size 640x480 with 1 Axes>"
      ]
     },
     "metadata": {},
     "output_type": "display_data"
    }
   ],
   "source": [
    "# 17) Make a scatter plot of total_bill vs. tip\n",
    "plt.scatter(data['total_bill'], data['tip'])\n",
    "plt.title('17) Scatter plot of total_bill vs. tip')\n",
    "plt.xlabel('Total Bill')\n",
    "plt.ylabel('Tip')\n",
    "plt.show()"
   ]
  },
  {
   "cell_type": "code",
   "execution_count": 46,
   "id": "769dcd66",
   "metadata": {},
   "outputs": [
    {
     "data": {
      "image/png": "[encoded data removed]",
      "text/plain": [
       "<Figure size 640x480 with 1 Axes>"
      ]
     },
     "metadata": {},
     "output_type": "display_data"
    }
   ],
   "source": [
    "# 18) Make a scatter plot of total_bill vs. pct_tip\n",
    "plt.scatter(df['total_bill'], df['pct_tip'])\n",
    "plt.title('18) Scatter plot of total_bill vs. pct_tip')\n",
    "plt.xlabel('Total Bill')\n",
    "plt.ylabel('Percentage of Tip')\n",
    "plt.show()"
   ]
  },
  {
   "cell_type": "code",
   "execution_count": 47,
   "id": "e1e4ac5a",
   "metadata": {
    "scrolled": true
   },
   "outputs": [
    {
     "name": "stdout",
     "output_type": "stream",
     "text": [
      "\n",
      "19) Observations from scatter plots:\n",
      "Scatter plot of total_bill vs. tip: Shows the relationship between total bill and tip amount.\n",
      "Scatter plot of total_bill vs. pct_tip: Indicates the trend of tip percentage concerning total bill.\n"
     ]
    }
   ],
   "source": [
    "# 19) Describe or write your observations according to 17 and 18\n",
    "print(\"\\n19) Observations from scatter plots:\")\n",
    "print(\"Scatter plot of total_bill vs. tip: Shows the relationship between total bill and tip amount.\")\n",
    "print(\"Scatter plot of total_bill vs. pct_tip: Indicates the trend of tip percentage concerning total bill.\")"
   ]
  },
  {
   "cell_type": "markdown",
   "id": "f4394c2b",
   "metadata": {},
   "source": [
    "Thanks."
   ]
  }
 ],
 "metadata": {
  "kernelspec": {
   "display_name": "Python 3 (ipykernel)",
   "language": "python",
   "name": "python3"
  },
  "language_info": {
   "codemirror_mode": {
    "name": "ipython",
    "version": 3
   },
   "file_extension": ".py",
   "mimetype": "text/x-python",
   "name": "python",
   "nbconvert_exporter": "python",
   "pygments_lexer": "ipython3",
   "version": "3.11.4"
  }
 },
 "nbformat": 4,
 "nbformat_minor": 5
}
