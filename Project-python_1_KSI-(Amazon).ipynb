{
 "cells": [
  {
   "cell_type": "markdown",
   "id": "e91b0f89",
   "metadata": {},
   "source": [
    "# Project-python_1_KSI-(Amazon)"
   ]
  },
  {
   "cell_type": "markdown",
   "id": "b2977277",
   "metadata": {},
   "source": [
    "# # By Farhana Hoque"
   ]
  },
  {
   "cell_type": "code",
   "execution_count": 1,
   "id": "35fa241e",
   "metadata": {},
   "outputs": [],
   "source": [
    "# Import necessary libraries\n",
    "import pandas as pd\n",
    "\n",
    "# Load the dataset with a specified encoding\n",
    "df = pd.read_csv(r\"C:\\Users\\User\\Downloads\\amazon.csv\", encoding='latin1')\n"
   ]
  },
  {
   "cell_type": "code",
   "execution_count": 2,
   "id": "0eb4cc13",
   "metadata": {},
   "outputs": [
    {
     "data": {
      "text/html": [
       "<div>\n",
       "<style scoped>\n",
       "    .dataframe tbody tr th:only-of-type {\n",
       "        vertical-align: middle;\n",
       "    }\n",
       "\n",
       "    .dataframe tbody tr th {\n",
       "        vertical-align: top;\n",
       "    }\n",
       "\n",
       "    .dataframe thead th {\n",
       "        text-align: right;\n",
       "    }\n",
       "</style>\n",
       "<table border=\"1\" class=\"dataframe\">\n",
       "  <thead>\n",
       "    <tr style=\"text-align: right;\">\n",
       "      <th></th>\n",
       "      <th>year</th>\n",
       "      <th>state</th>\n",
       "      <th>month</th>\n",
       "      <th>number</th>\n",
       "      <th>date</th>\n",
       "    </tr>\n",
       "  </thead>\n",
       "  <tbody>\n",
       "    <tr>\n",
       "      <th>0</th>\n",
       "      <td>1998</td>\n",
       "      <td>Acre</td>\n",
       "      <td>Janeiro</td>\n",
       "      <td>0.0</td>\n",
       "      <td>1/1/1998</td>\n",
       "    </tr>\n",
       "    <tr>\n",
       "      <th>1</th>\n",
       "      <td>1999</td>\n",
       "      <td>Acre</td>\n",
       "      <td>Janeiro</td>\n",
       "      <td>0.0</td>\n",
       "      <td>1/1/1999</td>\n",
       "    </tr>\n",
       "    <tr>\n",
       "      <th>2</th>\n",
       "      <td>2000</td>\n",
       "      <td>Acre</td>\n",
       "      <td>Janeiro</td>\n",
       "      <td>0.0</td>\n",
       "      <td>1/1/2000</td>\n",
       "    </tr>\n",
       "    <tr>\n",
       "      <th>3</th>\n",
       "      <td>2001</td>\n",
       "      <td>Acre</td>\n",
       "      <td>Janeiro</td>\n",
       "      <td>0.0</td>\n",
       "      <td>1/1/2001</td>\n",
       "    </tr>\n",
       "    <tr>\n",
       "      <th>4</th>\n",
       "      <td>2002</td>\n",
       "      <td>Acre</td>\n",
       "      <td>Janeiro</td>\n",
       "      <td>0.0</td>\n",
       "      <td>1/1/2002</td>\n",
       "    </tr>\n",
       "    <tr>\n",
       "      <th>5</th>\n",
       "      <td>2003</td>\n",
       "      <td>Acre</td>\n",
       "      <td>Janeiro</td>\n",
       "      <td>10.0</td>\n",
       "      <td>1/1/2003</td>\n",
       "    </tr>\n",
       "    <tr>\n",
       "      <th>6</th>\n",
       "      <td>2004</td>\n",
       "      <td>Acre</td>\n",
       "      <td>Janeiro</td>\n",
       "      <td>0.0</td>\n",
       "      <td>1/1/2004</td>\n",
       "    </tr>\n",
       "    <tr>\n",
       "      <th>7</th>\n",
       "      <td>2005</td>\n",
       "      <td>Acre</td>\n",
       "      <td>Janeiro</td>\n",
       "      <td>12.0</td>\n",
       "      <td>1/1/2005</td>\n",
       "    </tr>\n",
       "    <tr>\n",
       "      <th>8</th>\n",
       "      <td>2006</td>\n",
       "      <td>Acre</td>\n",
       "      <td>Janeiro</td>\n",
       "      <td>4.0</td>\n",
       "      <td>1/1/2006</td>\n",
       "    </tr>\n",
       "    <tr>\n",
       "      <th>9</th>\n",
       "      <td>2007</td>\n",
       "      <td>Acre</td>\n",
       "      <td>Janeiro</td>\n",
       "      <td>0.0</td>\n",
       "      <td>1/1/2007</td>\n",
       "    </tr>\n",
       "  </tbody>\n",
       "</table>\n",
       "</div>"
      ],
      "text/plain": [
       "   year state    month  number      date\n",
       "0  1998  Acre  Janeiro     0.0  1/1/1998\n",
       "1  1999  Acre  Janeiro     0.0  1/1/1999\n",
       "2  2000  Acre  Janeiro     0.0  1/1/2000\n",
       "3  2001  Acre  Janeiro     0.0  1/1/2001\n",
       "4  2002  Acre  Janeiro     0.0  1/1/2002\n",
       "5  2003  Acre  Janeiro    10.0  1/1/2003\n",
       "6  2004  Acre  Janeiro     0.0  1/1/2004\n",
       "7  2005  Acre  Janeiro    12.0  1/1/2005\n",
       "8  2006  Acre  Janeiro     4.0  1/1/2006\n",
       "9  2007  Acre  Janeiro     0.0  1/1/2007"
      ]
     },
     "execution_count": 2,
     "metadata": {},
     "output_type": "execute_result"
    }
   ],
   "source": [
    "# 1. Display Top 10 Rows of The Dataset\n",
    "top_10_rows = df.head(10)\n",
    "top_10_rows"
   ]
  },
  {
   "cell_type": "code",
   "execution_count": 3,
   "id": "39c9b2d7",
   "metadata": {},
   "outputs": [
    {
     "data": {
      "text/html": [
       "<div>\n",
       "<style scoped>\n",
       "    .dataframe tbody tr th:only-of-type {\n",
       "        vertical-align: middle;\n",
       "    }\n",
       "\n",
       "    .dataframe tbody tr th {\n",
       "        vertical-align: top;\n",
       "    }\n",
       "\n",
       "    .dataframe thead th {\n",
       "        text-align: right;\n",
       "    }\n",
       "</style>\n",
       "<table border=\"1\" class=\"dataframe\">\n",
       "  <thead>\n",
       "    <tr style=\"text-align: right;\">\n",
       "      <th></th>\n",
       "      <th>year</th>\n",
       "      <th>state</th>\n",
       "      <th>month</th>\n",
       "      <th>number</th>\n",
       "      <th>date</th>\n",
       "    </tr>\n",
       "  </thead>\n",
       "  <tbody>\n",
       "    <tr>\n",
       "      <th>6444</th>\n",
       "      <td>2007</td>\n",
       "      <td>Tocantins</td>\n",
       "      <td>Dezembro</td>\n",
       "      <td>13.0</td>\n",
       "      <td>1/1/2007</td>\n",
       "    </tr>\n",
       "    <tr>\n",
       "      <th>6445</th>\n",
       "      <td>2008</td>\n",
       "      <td>Tocantins</td>\n",
       "      <td>Dezembro</td>\n",
       "      <td>7.0</td>\n",
       "      <td>1/1/2008</td>\n",
       "    </tr>\n",
       "    <tr>\n",
       "      <th>6446</th>\n",
       "      <td>2009</td>\n",
       "      <td>Tocantins</td>\n",
       "      <td>Dezembro</td>\n",
       "      <td>46.0</td>\n",
       "      <td>1/1/2009</td>\n",
       "    </tr>\n",
       "    <tr>\n",
       "      <th>6447</th>\n",
       "      <td>2010</td>\n",
       "      <td>Tocantins</td>\n",
       "      <td>Dezembro</td>\n",
       "      <td>72.0</td>\n",
       "      <td>1/1/2010</td>\n",
       "    </tr>\n",
       "    <tr>\n",
       "      <th>6448</th>\n",
       "      <td>2011</td>\n",
       "      <td>Tocantins</td>\n",
       "      <td>Dezembro</td>\n",
       "      <td>105.0</td>\n",
       "      <td>1/1/2011</td>\n",
       "    </tr>\n",
       "    <tr>\n",
       "      <th>6449</th>\n",
       "      <td>2012</td>\n",
       "      <td>Tocantins</td>\n",
       "      <td>Dezembro</td>\n",
       "      <td>128.0</td>\n",
       "      <td>1/1/2012</td>\n",
       "    </tr>\n",
       "    <tr>\n",
       "      <th>6450</th>\n",
       "      <td>2013</td>\n",
       "      <td>Tocantins</td>\n",
       "      <td>Dezembro</td>\n",
       "      <td>85.0</td>\n",
       "      <td>1/1/2013</td>\n",
       "    </tr>\n",
       "    <tr>\n",
       "      <th>6451</th>\n",
       "      <td>2014</td>\n",
       "      <td>Tocantins</td>\n",
       "      <td>Dezembro</td>\n",
       "      <td>223.0</td>\n",
       "      <td>1/1/2014</td>\n",
       "    </tr>\n",
       "    <tr>\n",
       "      <th>6452</th>\n",
       "      <td>2015</td>\n",
       "      <td>Tocantins</td>\n",
       "      <td>Dezembro</td>\n",
       "      <td>373.0</td>\n",
       "      <td>1/1/2015</td>\n",
       "    </tr>\n",
       "    <tr>\n",
       "      <th>6453</th>\n",
       "      <td>2016</td>\n",
       "      <td>Tocantins</td>\n",
       "      <td>Dezembro</td>\n",
       "      <td>119.0</td>\n",
       "      <td>1/1/2016</td>\n",
       "    </tr>\n",
       "  </tbody>\n",
       "</table>\n",
       "</div>"
      ],
      "text/plain": [
       "      year      state     month  number      date\n",
       "6444  2007  Tocantins  Dezembro    13.0  1/1/2007\n",
       "6445  2008  Tocantins  Dezembro     7.0  1/1/2008\n",
       "6446  2009  Tocantins  Dezembro    46.0  1/1/2009\n",
       "6447  2010  Tocantins  Dezembro    72.0  1/1/2010\n",
       "6448  2011  Tocantins  Dezembro   105.0  1/1/2011\n",
       "6449  2012  Tocantins  Dezembro   128.0  1/1/2012\n",
       "6450  2013  Tocantins  Dezembro    85.0  1/1/2013\n",
       "6451  2014  Tocantins  Dezembro   223.0  1/1/2014\n",
       "6452  2015  Tocantins  Dezembro   373.0  1/1/2015\n",
       "6453  2016  Tocantins  Dezembro   119.0  1/1/2016"
      ]
     },
     "execution_count": 3,
     "metadata": {},
     "output_type": "execute_result"
    }
   ],
   "source": [
    "# 2. Check Last 10 Rows\n",
    "last_10_rows = df.tail(10)\n",
    "last_10_rows"
   ]
  },
  {
   "cell_type": "code",
   "execution_count": 4,
   "id": "792142dc",
   "metadata": {},
   "outputs": [
    {
     "data": {
      "text/plain": [
       "(6454, 5)"
      ]
     },
     "execution_count": 4,
     "metadata": {},
     "output_type": "execute_result"
    }
   ],
   "source": [
    "# 3. Find Shape of Our Dataset (Number of Rows And Number of Columns)\n",
    "dataset_shape = df.shape\n",
    "dataset_shape"
   ]
  },
  {
   "cell_type": "code",
   "execution_count": 5,
   "id": "18968759",
   "metadata": {},
   "outputs": [
    {
     "name": "stdout",
     "output_type": "stream",
     "text": [
      "<class 'pandas.core.frame.DataFrame'>\n",
      "RangeIndex: 6454 entries, 0 to 6453\n",
      "Data columns (total 5 columns):\n",
      " #   Column  Non-Null Count  Dtype  \n",
      "---  ------  --------------  -----  \n",
      " 0   year    6454 non-null   int64  \n",
      " 1   state   6454 non-null   object \n",
      " 2   month   6454 non-null   object \n",
      " 3   number  6454 non-null   float64\n",
      " 4   date    6454 non-null   object \n",
      "dtypes: float64(1), int64(1), object(3)\n",
      "memory usage: 252.2+ KB\n"
     ]
    }
   ],
   "source": [
    "# 4. Getting Information About Our Dataset\n",
    "dataset_info = df.info()"
   ]
  },
  {
   "cell_type": "code",
   "execution_count": 6,
   "id": "18c2ea68",
   "metadata": {},
   "outputs": [],
   "source": [
    "# 5. Check For Duplicate Data and Drop Them\n",
    "df.drop_duplicates(inplace=True)"
   ]
  },
  {
   "cell_type": "code",
   "execution_count": 7,
   "id": "99d7a213",
   "metadata": {},
   "outputs": [
    {
     "data": {
      "text/plain": [
       "year      0\n",
       "state     0\n",
       "month     0\n",
       "number    0\n",
       "date      0\n",
       "dtype: int64"
      ]
     },
     "execution_count": 7,
     "metadata": {},
     "output_type": "execute_result"
    }
   ],
   "source": [
    "# 6. Check Null Values In The Dataset\n",
    "null_values = df.isna().sum()\n",
    "\n",
    "# Display the null values\n",
    "null_values"
   ]
  },
  {
   "cell_type": "code",
   "execution_count": 8,
   "id": "cb0af339",
   "metadata": {},
   "outputs": [
    {
     "data": {
      "text/html": [
       "<div>\n",
       "<style scoped>\n",
       "    .dataframe tbody tr th:only-of-type {\n",
       "        vertical-align: middle;\n",
       "    }\n",
       "\n",
       "    .dataframe tbody tr th {\n",
       "        vertical-align: top;\n",
       "    }\n",
       "\n",
       "    .dataframe thead th {\n",
       "        text-align: right;\n",
       "    }\n",
       "</style>\n",
       "<table border=\"1\" class=\"dataframe\">\n",
       "  <thead>\n",
       "    <tr style=\"text-align: right;\">\n",
       "      <th></th>\n",
       "      <th>year</th>\n",
       "      <th>number</th>\n",
       "    </tr>\n",
       "  </thead>\n",
       "  <tbody>\n",
       "    <tr>\n",
       "      <th>count</th>\n",
       "      <td>6422.000000</td>\n",
       "      <td>6422.000000</td>\n",
       "    </tr>\n",
       "    <tr>\n",
       "      <th>mean</th>\n",
       "      <td>2007.490969</td>\n",
       "      <td>108.815178</td>\n",
       "    </tr>\n",
       "    <tr>\n",
       "      <th>std</th>\n",
       "      <td>5.731806</td>\n",
       "      <td>191.142482</td>\n",
       "    </tr>\n",
       "    <tr>\n",
       "      <th>min</th>\n",
       "      <td>1998.000000</td>\n",
       "      <td>0.000000</td>\n",
       "    </tr>\n",
       "    <tr>\n",
       "      <th>25%</th>\n",
       "      <td>2003.000000</td>\n",
       "      <td>3.000000</td>\n",
       "    </tr>\n",
       "    <tr>\n",
       "      <th>50%</th>\n",
       "      <td>2007.000000</td>\n",
       "      <td>24.497000</td>\n",
       "    </tr>\n",
       "    <tr>\n",
       "      <th>75%</th>\n",
       "      <td>2012.000000</td>\n",
       "      <td>114.000000</td>\n",
       "    </tr>\n",
       "    <tr>\n",
       "      <th>max</th>\n",
       "      <td>2017.000000</td>\n",
       "      <td>998.000000</td>\n",
       "    </tr>\n",
       "  </tbody>\n",
       "</table>\n",
       "</div>"
      ],
      "text/plain": [
       "              year       number\n",
       "count  6422.000000  6422.000000\n",
       "mean   2007.490969   108.815178\n",
       "std       5.731806   191.142482\n",
       "min    1998.000000     0.000000\n",
       "25%    2003.000000     3.000000\n",
       "50%    2007.000000    24.497000\n",
       "75%    2012.000000   114.000000\n",
       "max    2017.000000   998.000000"
      ]
     },
     "execution_count": 8,
     "metadata": {},
     "output_type": "execute_result"
    }
   ],
   "source": [
    "# 7. Get Overall Statistics About The Dataframe\n",
    "overall_stats = df.describe()\n",
    "overall_stats"
   ]
  },
  {
   "cell_type": "code",
   "execution_count": 21,
   "id": "6e5c6bd7",
   "metadata": {},
   "outputs": [
    {
     "name": "stdout",
     "output_type": "stream",
     "text": [
      "   year state month  number       date\n",
      "0  1998  Acre   NaN     0.0 1998-01-01\n",
      "1  1999  Acre   NaN     0.0 1999-01-01\n",
      "2  2000  Acre   NaN     0.0 2000-01-01\n",
      "3  2001  Acre   NaN     0.0 2001-01-01\n",
      "4  2002  Acre   NaN     0.0 2002-01-01\n"
     ]
    }
   ],
   "source": [
    "# 8. Rename Month Names To English\n",
    "\n",
    "\n",
    "# Ensure proper date parsing\n",
    "df['date'] = pd.to_datetime(df['date'])\n",
    "\n",
    "\n",
    "# Fill NaN values in the 'month' column based on the 'date' column\n",
    "df['month'] = df['date'].dt.month_name()\n",
    "\n",
    "# Dictionary mapping month names to English\n",
    "month_dict = {\n",
    "    'Janeiro': 'January',\n",
    "    'Fevereiro': 'February',\n",
    "    'Março': 'March',\n",
    "    'Abril': 'April',\n",
    "    'Maio': 'May',\n",
    "    'Junho': 'June',\n",
    "    'Julho': 'July',\n",
    "    'Agosto': 'August',\n",
    "    'Setembro': 'September',\n",
    "    'Outubro': 'October',\n",
    "    'Novembro': 'November',\n",
    "    'Dezembro': 'December'\n",
    "}\n",
    "\n",
    "# Rename month column to English names\n",
    "df['month']= df['month'].map(month_dict)\n",
    "\n",
    "# Display the updated DataFrame\n",
    "print(df.head())  "
   ]
  },
  {
   "cell_type": "code",
   "execution_count": 11,
   "id": "04a9797e",
   "metadata": {},
   "outputs": [
    {
     "data": {
      "text/plain": [
       "698811.073"
      ]
     },
     "execution_count": 11,
     "metadata": {},
     "output_type": "execute_result"
    }
   ],
   "source": [
    "# 9. Total Number of Fires Registered\n",
    "total_fires = df['number'].sum()\n",
    "total_fires"
   ]
  },
  {
   "cell_type": "code",
   "execution_count": 12,
   "id": "3fa60845",
   "metadata": {},
   "outputs": [
    {
     "data": {
      "text/plain": [
       "'January'"
      ]
     },
     "execution_count": 12,
     "metadata": {},
     "output_type": "execute_result"
    }
   ],
   "source": [
    "# 10. In Which Month Maximum Number of Forest Fires Were Reported?\n",
    "max_fires_month = df.loc[df['number'].idxmax()]['month']\n",
    "max_fires_month"
   ]
  },
  {
   "cell_type": "code",
   "execution_count": 13,
   "id": "efcfdc54",
   "metadata": {},
   "outputs": [
    {
     "data": {
      "text/plain": [
       "2008"
      ]
     },
     "execution_count": 13,
     "metadata": {},
     "output_type": "execute_result"
    }
   ],
   "source": [
    "# 11. In Which Year Maximum Number of Forest Fires Was Reported?\n",
    "max_fires_year = df.loc[df['number'].idxmax()]['year']\n",
    "max_fires_year"
   ]
  },
  {
   "cell_type": "code",
   "execution_count": 14,
   "id": "a54b3c63",
   "metadata": {},
   "outputs": [
    {
     "data": {
      "text/plain": [
       "'Amazonas'"
      ]
     },
     "execution_count": 14,
     "metadata": {},
     "output_type": "execute_result"
    }
   ],
   "source": [
    "# 12. In Which State Maximum Number of Forest Fires Was Reported?\n",
    "max_fires_state = df.loc[df['number'].idxmax()]['state']\n",
    "max_fires_state "
   ]
  },
  {
   "cell_type": "code",
   "execution_count": 15,
   "id": "b0b6e0e5",
   "metadata": {},
   "outputs": [
    {
     "data": {
      "text/plain": [
       "30650.129"
      ]
     },
     "execution_count": 15,
     "metadata": {},
     "output_type": "execute_result"
    }
   ],
   "source": [
    "# 13. Find Total Number of Fires Were Reported In Amazonas\n",
    "total_fires_amazonas = df[df['state'] == 'Amazonas']['number'].sum()\n",
    "total_fires_amazonas"
   ]
  },
  {
   "cell_type": "code",
   "execution_count": 16,
   "id": "764e0e90",
   "metadata": {},
   "outputs": [
    {
     "data": {
      "text/plain": [
       "year\n",
       "1998     946.000\n",
       "1999    1061.000\n",
       "2000     853.000\n",
       "2001    1297.000\n",
       "2002    2852.000\n",
       "2003    1524.268\n",
       "2004    2298.207\n",
       "2005    1657.128\n",
       "2006     997.640\n",
       "2007     589.601\n",
       "2008    2717.000\n",
       "2009    1320.601\n",
       "2010    2324.508\n",
       "2011    1652.538\n",
       "2012    1110.641\n",
       "2013     905.217\n",
       "2014    2385.909\n",
       "2015    1189.994\n",
       "2016    2060.972\n",
       "2017     906.905\n",
       "Name: number, dtype: float64"
      ]
     },
     "execution_count": 16,
     "metadata": {},
     "output_type": "execute_result"
    }
   ],
   "source": [
    "# 14. Display Number of Fires Were Reported In Amazonas (Year-Wise)\n",
    "amazonas_yearly_fires = df[df['state'] == 'Amazonas'].groupby('year')['number'].sum()\n",
    "amazonas_yearly_fires"
   ]
  },
  {
   "cell_type": "code",
   "execution_count": 17,
   "id": "007a374e",
   "metadata": {},
   "outputs": [
    {
     "data": {
      "text/plain": [
       "date\n",
       "1998-01-01     946.000\n",
       "1999-01-01    1061.000\n",
       "2000-01-01     853.000\n",
       "2001-01-01    1297.000\n",
       "2002-01-01    2852.000\n",
       "2003-01-01    1524.268\n",
       "2004-01-01    2298.207\n",
       "2005-01-01    1657.128\n",
       "2006-01-01     997.640\n",
       "2007-01-01     589.601\n",
       "2008-01-01    2717.000\n",
       "2009-01-01    1320.601\n",
       "2010-01-01    2324.508\n",
       "2011-01-01    1652.538\n",
       "2012-01-01    1110.641\n",
       "2013-01-01     905.217\n",
       "2014-01-01    2385.909\n",
       "2015-01-01    1189.994\n",
       "2016-01-01    2060.972\n",
       "2017-01-01     906.905\n",
       "Name: number, dtype: float64"
      ]
     },
     "execution_count": 17,
     "metadata": {},
     "output_type": "execute_result"
    }
   ],
   "source": [
    "# 15. Display Number of Fires Were Reported In Amazonas (Day-Wise)\n",
    "amazonas_daily_fires = df[df['state'] == 'Amazonas'].groupby('date')['number'].sum()\n",
    "amazonas_daily_fires"
   ]
  },
  {
   "cell_type": "code",
   "execution_count": 18,
   "id": "85b55b53",
   "metadata": {},
   "outputs": [
    {
     "data": {
      "text/plain": [
       "month\n",
       "January    41208.292\n",
       "Name: number, dtype: float64"
      ]
     },
     "execution_count": 18,
     "metadata": {},
     "output_type": "execute_result"
    }
   ],
   "source": [
    "# 16. Find Total Number of Fires Were Reported In 2015 And Visualize Data Based on Each ‘Month’\n",
    "fires_2015 = df[df['year'] == 2015].groupby('month')['number'].sum()\n",
    "fires_2015"
   ]
  },
  {
   "cell_type": "code",
   "execution_count": 19,
   "id": "657246bd",
   "metadata": {},
   "outputs": [
    {
     "data": {
      "text/plain": [
       "state\n",
       "Sao Paulo           213.896226\n",
       "Mato Grosso         203.479975\n",
       "Bahia               187.222703\n",
       "Piau                158.174674\n",
       "Goias               157.721841\n",
       "Minas Gerais        156.800243\n",
       "Tocantins           141.037176\n",
       "Amazonas            128.243218\n",
       "Ceara               127.314071\n",
       "Paraiba             111.073979\n",
       "Maranhao            105.142808\n",
       "Pará                102.561272\n",
       "Pernambuco          102.502092\n",
       "Roraima             102.029598\n",
       "Santa Catarina      101.924067\n",
       "Amapa                91.345506\n",
       "Rondonia             84.876272\n",
       "Acre                 77.255356\n",
       "Rio                  64.698515\n",
       "Espirito Santo       27.389121\n",
       "Alagoas              19.271967\n",
       "Distrito Federal     14.899582\n",
       "Sergipe              13.543933\n",
       "Name: number, dtype: float64"
      ]
     },
     "execution_count": 19,
     "metadata": {},
     "output_type": "execute_result"
    }
   ],
   "source": [
    "# 17. Find Average Number of Fires Were Reported From Highest to Lowest (State-Wise)\n",
    "avg_fires_statewise = df.groupby('state')['number'].mean().sort_values(ascending=False)\n",
    "avg_fires_statewise"
   ]
  },
  {
   "cell_type": "code",
   "execution_count": 20,
   "id": "0a670e15",
   "metadata": {},
   "outputs": [
    {
     "name": "stdout",
     "output_type": "stream",
     "text": [
      "Original DataFrame:\n",
      "   year state    month  number       date\n",
      "0  1998  Acre  January     0.0 1998-01-01\n",
      "1  1999  Acre  January     0.0 1999-01-01\n",
      "2  2000  Acre  January     0.0 2000-01-01\n",
      "3  2001  Acre  January     0.0 2001-01-01\n",
      "4  2002  Acre  January     0.0 2002-01-01\n",
      "\n",
      "State names where fires were reported in 'December':\n",
      "[]\n"
     ]
    }
   ],
   "source": [
    "\n",
    "# Display the original DataFrame\n",
    "print(\"Original DataFrame:\")\n",
    "print(df.head())\n",
    "\n",
    "# 18. Find the state names where fires were reported in 'dec' month\n",
    "december_states = df[df['month'] == 'December']['state'].unique()\n",
    "\n",
    "# Display the state names\n",
    "print(\"\\nState names where fires were reported in 'December':\")\n",
    "print(december_states)"
   ]
  },
  {
   "cell_type": "code",
   "execution_count": null,
   "id": "a72b9ddf",
   "metadata": {},
   "outputs": [],
   "source": []
  }
 ],
 "metadata": {
  "kernelspec": {
   "display_name": "Python 3 (ipykernel)",
   "language": "python",
   "name": "python3"
  },
  "language_info": {
   "codemirror_mode": {
    "name": "ipython",
    "version": 3
   },
   "file_extension": ".py",
   "mimetype": "text/x-python",
   "name": "python",
   "nbconvert_exporter": "python",
   "pygments_lexer": "ipython3",
   "version": "3.11.4"
  }
 },
 "nbformat": 4,
 "nbformat_minor": 5
}
